{
 "cells": [
  {
   "cell_type": "code",
   "execution_count": 1,
   "id": "1c8c0884-c1b6-4eb6-9f2c-000fbbc35d0d",
   "metadata": {
    "tags": []
   },
   "outputs": [],
   "source": [
    "from __future__ import absolute_import, division, print_function"
   ]
  },
  {
   "cell_type": "code",
   "execution_count": 2,
   "id": "01fde0a2-77a9-4cfd-9145-7ff98ea7025e",
   "metadata": {},
   "outputs": [],
   "source": [
    "# License: MIT"
   ]
  },
  {
   "cell_type": "code",
   "execution_count": 3,
   "id": "31b0be6b-f7dd-4e79-a527-30ed2560abb5",
   "metadata": {},
   "outputs": [],
   "source": [
    "%matplotlib inline"
   ]
  },
  {
   "cell_type": "markdown",
   "id": "b25272e9-5ce2-425b-9f90-fd4e0e5d0b36",
   "metadata": {},
   "source": [
    "## Packages"
   ]
  },
  {
   "cell_type": "code",
   "execution_count": 4,
   "id": "59238471-cf6e-44c5-be50-72783525aa7f",
   "metadata": {},
   "outputs": [],
   "source": [
    "import numpy as np\n",
    "import scipy as scipy\n",
    "import scipy.stats as stats\n",
    "import scipy.linalg as linalg\n",
    "from pprint import pprint\n",
    "\n",
    "import matplotlib.gridspec as gridspec\n",
    "import matplotlib.path as mpath\n",
    "import matplotlib.pyplot as plt\n",
    "\n",
    "import sys\n",
    "import os\n",
    "import copy\n",
    "import string\n",
    "import glob\n",
    "import xarray as xr \n",
    "\n",
    "import warnings"
   ]
  },
  {
   "cell_type": "markdown",
   "id": "d71e8ae8-5b63-46b6-a754-6ccf7e35cf4a",
   "metadata": {},
   "source": [
    "## Modules"
   ]
  },
  {
   "cell_type": "code",
   "execution_count": 5,
   "id": "ef4ef497-0293-4a9e-87d8-18ddcb21e63e",
   "metadata": {},
   "outputs": [],
   "source": [
    "from custom_functions import *"
   ]
  },
  {
   "cell_type": "markdown",
   "id": "b242223e-2ecc-453f-b5d9-5cf74e6195b9",
   "metadata": {},
   "source": [
    "# Test Jacobian function using provided example"
   ]
  },
  {
   "cell_type": "code",
   "execution_count": 6,
   "id": "68e138fd-040f-4156-9d39-71dd7e0b8604",
   "metadata": {},
   "outputs": [],
   "source": [
    "def func(x):\n",
    "    if x.ndim == 1:\n",
    "        x = np.expand_dims(x, axis=1)\n",
    "    \n",
    "    f1 = np.sin(x[2,:]) + np.sin(x[0,:] * x[1,:])\n",
    "    f2 = np.cos(x[0,:] + x[1,:] * x[2,:]**2)\n",
    "    f = np.array([f1,f2])\n",
    "    \n",
    "    return f"
   ]
  },
  {
   "cell_type": "code",
   "execution_count": 23,
   "id": "3c350ce2-8a5e-4f89-8997-a357a6b2434b",
   "metadata": {},
   "outputs": [],
   "source": [
    "h = 1e-6\n",
    "x0 = np.array([0.0,0.0,0.0])\n",
    "x1 = np.array([1.0,1.0,1.0])\n",
    "xs = np.array([x0,x1]).T\n",
    "\n",
    "if xs.shape != (3,2):\n",
    "    print(\"Error - points array incorrectly defined\")"
   ]
  },
  {
   "cell_type": "code",
   "execution_count": 24,
   "id": "2f6168fd-cdc5-4ead-a76d-146afbf490cc",
   "metadata": {},
   "outputs": [],
   "source": [
    "df = MyJacobian(func,xs,h)"
   ]
  },
  {
   "cell_type": "code",
   "execution_count": 29,
   "id": "5e51bd44-ccc9-4967-8a65-b10a1440b418",
   "metadata": {},
   "outputs": [
    {
     "data": {
      "text/plain": [
       "array([[0., 0., 1.],\n",
       "       [0., 0., 0.]])"
      ]
     },
     "execution_count": 29,
     "metadata": {},
     "output_type": "execute_result"
    }
   ],
   "source": [
    "df[:,:,0]"
   ]
  },
  {
   "cell_type": "code",
   "execution_count": 30,
   "id": "db6fa110-3db4-4d63-b8a0-872f8b147b60",
   "metadata": {},
   "outputs": [
    {
     "data": {
      "text/plain": [
       "array([[ 0.54030231,  0.54030231,  0.54030231],\n",
       "       [-0.90929743, -0.90929743, -1.81859485]])"
      ]
     },
     "execution_count": 30,
     "metadata": {},
     "output_type": "execute_result"
    }
   ],
   "source": [
    "df[:,:,1]"
   ]
  },
  {
   "cell_type": "code",
   "execution_count": null,
   "id": "e6ea9bf4-d628-4dab-b54b-3b9eab8c29e1",
   "metadata": {},
   "outputs": [],
   "source": []
  }
 ],
 "metadata": {
  "kernelspec": {
   "display_name": "Python 3 (ipykernel)",
   "language": "python",
   "name": "python3"
  },
  "language_info": {
   "codemirror_mode": {
    "name": "ipython",
    "version": 3
   },
   "file_extension": ".py",
   "mimetype": "text/x-python",
   "name": "python",
   "nbconvert_exporter": "python",
   "pygments_lexer": "ipython3",
   "version": "3.9.12"
  }
 },
 "nbformat": 4,
 "nbformat_minor": 5
}
