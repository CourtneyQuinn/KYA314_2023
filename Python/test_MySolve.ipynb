{
 "cells": [
  {
   "cell_type": "code",
   "execution_count": 1,
   "id": "867f9337-bddf-4010-8163-9966a300bba5",
   "metadata": {
    "tags": []
   },
   "outputs": [],
   "source": [
    "from __future__ import absolute_import, division, print_function"
   ]
  },
  {
   "cell_type": "code",
   "execution_count": 2,
   "id": "64bf1ecf-f186-44eb-a004-3ee381135217",
   "metadata": {},
   "outputs": [],
   "source": [
    "# License: MIT"
   ]
  },
  {
   "cell_type": "code",
   "execution_count": 3,
   "id": "5de0b860-251e-45da-a48a-dde644bdc266",
   "metadata": {},
   "outputs": [],
   "source": [
    "%matplotlib inline"
   ]
  },
  {
   "cell_type": "markdown",
   "id": "f2121888-1074-41a9-885d-a8f425999371",
   "metadata": {},
   "source": [
    "## Packages"
   ]
  },
  {
   "cell_type": "code",
   "execution_count": 4,
   "id": "fc00804a-471b-4598-8069-ab1070f148c8",
   "metadata": {},
   "outputs": [],
   "source": [
    "import numpy as np\n",
    "import scipy as scipy\n",
    "import scipy.stats as stats\n",
    "import scipy.linalg as linalg\n",
    "from pprint import pprint\n",
    "\n",
    "import matplotlib.gridspec as gridspec\n",
    "import matplotlib.path as mpath\n",
    "import matplotlib.pyplot as plt\n",
    "\n",
    "import sys\n",
    "import os\n",
    "import copy\n",
    "import string\n",
    "import glob\n",
    "import xarray as xr \n",
    "\n",
    "import warnings"
   ]
  },
  {
   "cell_type": "markdown",
   "id": "784a95b3-6915-4aed-94aa-36b78a43f015",
   "metadata": {},
   "source": [
    "## Modules"
   ]
  },
  {
   "cell_type": "code",
   "execution_count": 5,
   "id": "7912d701-5f08-4e24-9848-ba014ea25546",
   "metadata": {},
   "outputs": [],
   "source": [
    "from custom_functions import *"
   ]
  },
  {
   "cell_type": "markdown",
   "id": "25d310c5-427c-4cad-b22a-13fdb809a1ee",
   "metadata": {},
   "source": [
    "# Test Newton solver using provided example"
   ]
  },
  {
   "cell_type": "markdown",
   "id": "306a37c9-fb7c-4282-a547-6ae31cd42903",
   "metadata": {},
   "source": [
    "## 1D example"
   ]
  },
  {
   "cell_type": "code",
   "execution_count": 6,
   "id": "021dcf4d-228c-43b0-942e-214610ebe874",
   "metadata": {},
   "outputs": [],
   "source": [
    "# Define function\n",
    "def f(x):\n",
    "    xout = np.exp(x)+x\n",
    "    return xout"
   ]
  },
  {
   "cell_type": "markdown",
   "id": "9cd69f9e-a158-4374-afe6-5585669537a5",
   "metadata": {},
   "source": [
    "### Numerical Jacobian"
   ]
  },
  {
   "cell_type": "code",
   "execution_count": 7,
   "id": "b1149d20-8db2-44d9-832a-a59241c81641",
   "metadata": {
    "tags": []
   },
   "outputs": [
    {
     "name": "stdout",
     "output_type": "stream",
     "text": [
      "Error is 1, Residual is 3.71828\n",
      "Error is 0.5, Residual is 1\n",
      "Error is 0.066311, Residual is 0.106531\n",
      "Error is 0.000832162, Residual is 0.00130451\n",
      "Error is 1.25375e-07, Residual is 1.96481e-07\n",
      "Error is 2.88658e-15, Residual is 4.55191e-15\n"
     ]
    }
   ],
   "source": [
    "h=1e-6;\n",
    "def df(x):\n",
    "    J = MyJacobian(f,x,h)\n",
    "    return J\n",
    "\n",
    "# Define MySolve inputs\n",
    "x0 = np.array([1.]);\n",
    "tol = 1e-8;\n",
    "maxit = 10;\n",
    "\n",
    "[x,conv,J] = MySolve(f,x0,df,tol,maxit)"
   ]
  },
  {
   "cell_type": "code",
   "execution_count": 8,
   "id": "0d2fc2b0-6b31-4806-8fdd-ad5c637aa390",
   "metadata": {},
   "outputs": [
    {
     "name": "stdout",
     "output_type": "stream",
     "text": [
      "x = -0.567143\n",
      "converged = True\n"
     ]
    }
   ],
   "source": [
    "print(\"x = %g\" % x)\n",
    "print(\"converged = %s\" % conv)"
   ]
  },
  {
   "cell_type": "markdown",
   "id": "47f13176-f5df-4eca-a231-32d72f164d99",
   "metadata": {},
   "source": [
    "### Analytical Jacobian"
   ]
  },
  {
   "cell_type": "code",
   "execution_count": 9,
   "id": "7cb7fd14-a532-4396-beba-d090fc06f649",
   "metadata": {},
   "outputs": [
    {
     "name": "stdout",
     "output_type": "stream",
     "text": [
      "Error is 1, Residual is 3.71828\n",
      "Error is 0.5, Residual is 1\n",
      "Error is 0.066311, Residual is 0.106531\n",
      "Error is 0.000832162, Residual is 0.00130451\n",
      "Error is 1.25375e-07, Residual is 1.9648e-07\n",
      "Error is 2.88658e-15, Residual is 4.44089e-15\n"
     ]
    }
   ],
   "source": [
    "# Define Jacobian (analytical)\n",
    "def df(x):\n",
    "    J = np.array([np.exp(x)+1])\n",
    "    return J\n",
    "\n",
    "[x,conv,J] = MySolve(f,x0,df,tol,maxit)"
   ]
  },
  {
   "cell_type": "code",
   "execution_count": 10,
   "id": "becb148f-6fef-4324-8ee4-03e0c5e5b53c",
   "metadata": {},
   "outputs": [
    {
     "name": "stdout",
     "output_type": "stream",
     "text": [
      "x = -0.567143\n",
      "converged = True\n"
     ]
    }
   ],
   "source": [
    "print(\"x = %g\" % x)\n",
    "print(\"converged = %s\" % conv)"
   ]
  },
  {
   "cell_type": "markdown",
   "id": "081c3b0e-f5fa-4bf4-bf90-cc122e20b9c3",
   "metadata": {},
   "source": [
    "## Rosenbrock's banana\n",
    "We find the minimum of \n",
    "$f(x) = (1-x_1)^2+100(x_2-x_1^2)^2$\n",
    "by solving $\\nabla f(x)=0$ with a Newton iteration."
   ]
  },
  {
   "cell_type": "code",
   "execution_count": 8,
   "id": "51a53741-60c3-4538-a933-18390c0b442b",
   "metadata": {},
   "outputs": [],
   "source": [
    "# Define function\n",
    "def f(x):\n",
    "    xout = np.array([(1-x[0])**2 + 100*(x[1]-x[0]**2)**2])\n",
    "    return xout"
   ]
  },
  {
   "cell_type": "markdown",
   "id": "9dd0cffa-6db3-496d-8f16-5a21b429953e",
   "metadata": {
    "tags": []
   },
   "source": [
    "### Numerical Jacobian"
   ]
  },
  {
   "cell_type": "code",
   "execution_count": 9,
   "id": "c534171c-1231-4bc2-b673-660f0fe07d70",
   "metadata": {},
   "outputs": [
    {
     "name": "stdout",
     "output_type": "stream",
     "text": [
      "Error is 1, Residual is 2\n",
      "Error is 1, Residual is 447.214\n",
      "Error is 1.08561e-06, Residual is 0.000121211\n",
      "Error is 4.57209e-11, Residual is 3.17255e-11\n"
     ]
    }
   ],
   "source": [
    "# Define gradf(x) and df(x) numerically\n",
    "h=1e-5\n",
    "def gradf(x):\n",
    "    f2 = MyJacobian(f,x,h).transpose((1, 0, 2)) # f2 is grad f\n",
    "    if f2.ndim > 2:\n",
    "        f2 = f2.squeeze(axis=2)\n",
    "    return f2\n",
    "    \n",
    "def df(x):\n",
    "    J = MyJacobian(gradf,x,h).squeeze()\n",
    "    return J\n",
    "\n",
    "# Define MySolve inputs\n",
    "tol=1e-6\n",
    "maxit=10\n",
    "x0=np.array([0.,0.])\n",
    "\n",
    "\n",
    "[x,conv,J] = MySolve(gradf,x0,df,tol,maxit)"
   ]
  },
  {
   "cell_type": "code",
   "execution_count": 10,
   "id": "42c33ffa-731d-435f-9f82-e65a4c162af5",
   "metadata": {},
   "outputs": [
    {
     "name": "stdout",
     "output_type": "stream",
     "text": [
      "x1 = 1, x2 = 1\n",
      "converged = True\n"
     ]
    }
   ],
   "source": [
    "print(\"x1 = %g, x2 = %g\" %(x[0],x[1]))\n",
    "print(\"converged = %s\" % conv)"
   ]
  },
  {
   "cell_type": "markdown",
   "id": "17c32b7f-839a-4cbd-83d6-9130fac5f81c",
   "metadata": {},
   "source": [
    "### Analytical Jacobian"
   ]
  },
  {
   "cell_type": "code",
   "execution_count": 14,
   "id": "a35a0cfa-80a2-4fa5-992e-22a84b739df1",
   "metadata": {},
   "outputs": [
    {
     "name": "stdout",
     "output_type": "stream",
     "text": [
      "Error is 1, Residual is 2\n",
      "Error is 1, Residual is 447.214\n",
      "Error is 2.22045e-16, Residual is 9.93014e-14\n"
     ]
    }
   ],
   "source": [
    "# Define gradf(x) and df(x) analytically\n",
    "def gradf(x):\n",
    "    f2 = np.array([-2.*(1-x[0,:])-400.*x[0,:]*(x[1,:]-x[0,:]**2), \n",
    "          200.*(x[1,:]-x[0,:]**2)],dtype=np.float64)\n",
    "    return f2\n",
    "\n",
    "def df(x):\n",
    "    J = np.empty((2,2))*np.nan\n",
    "    J[0,0] = 2.-400.*(x[1,:]-x[0,:]**2)+800.*x[0,:]**2\n",
    "    J[0,1] = -400.*x[0,:]\n",
    "    J[1,0] = -400.*x[0,:]\n",
    "    J[1,1] = 200.\n",
    "    return J\n",
    "\n",
    "# Define MySolve inputs\n",
    "tol=1e-6\n",
    "maxit=10\n",
    "x0=np.array([0.,0.])\n",
    "\n",
    "\n",
    "[x,conv,J] = MySolve(gradf,x0,df,tol,maxit)"
   ]
  },
  {
   "cell_type": "code",
   "execution_count": 15,
   "id": "68173f5a-e8d8-4895-a91f-868484038d6a",
   "metadata": {},
   "outputs": [
    {
     "name": "stdout",
     "output_type": "stream",
     "text": [
      "x1 = 1, x2 = 1\n",
      "converged = True\n"
     ]
    }
   ],
   "source": [
    "print(\"x1 = %g, x2 = %g\" %(x[0],x[1]))\n",
    "print(\"converged = %s\" % conv)"
   ]
  },
  {
   "cell_type": "code",
   "execution_count": null,
   "id": "d798ec82-6b6c-4706-bc22-b4791fd5354d",
   "metadata": {},
   "outputs": [],
   "source": []
  }
 ],
 "metadata": {
  "kernelspec": {
   "display_name": "Python 3 (ipykernel)",
   "language": "python",
   "name": "python3"
  },
  "language_info": {
   "codemirror_mode": {
    "name": "ipython",
    "version": 3
   },
   "file_extension": ".py",
   "mimetype": "text/x-python",
   "name": "python",
   "nbconvert_exporter": "python",
   "pygments_lexer": "ipython3",
   "version": "3.9.12"
  }
 },
 "nbformat": 4,
 "nbformat_minor": 5
}
